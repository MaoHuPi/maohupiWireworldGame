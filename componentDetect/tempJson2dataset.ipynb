{
  "nbformat": 4,
  "nbformat_minor": 0,
  "metadata": {
    "colab": {
      "provenance": []
    },
    "kernelspec": {
      "name": "python3",
      "display_name": "Python 3"
    },
    "language_info": {
      "name": "python"
    }
  },
  "cells": [
    {
      "cell_type": "code",
      "source": [
        "#@title connect google drive\n",
        "from google.colab import drive\n",
        "drive.mount('/content/drive')"
      ],
      "metadata": {
        "colab": {
          "base_uri": "https://localhost:8080/"
        },
        "id": "DaBDjNo2qfeW",
        "outputId": "12da46b9-548c-4dc1-b05e-dc96aecd73cc"
      },
      "execution_count": 72,
      "outputs": [
        {
          "output_type": "stream",
          "name": "stdout",
          "text": [
            "Drive already mounted at /content/drive; to attempt to forcibly remount, call drive.mount(\"/content/drive\", force_remount=True).\n"
          ]
        }
      ]
    },
    {
      "cell_type": "code",
      "source": [
        "DATASETS_DIR_PATH = '/content/drive/MyDrive/Colab Notebooks/project/wireworldYolo/datasets' #@param {type:\"string\"}"
      ],
      "metadata": {
        "id": "o1d2bwTRpvpg"
      },
      "execution_count": 73,
      "outputs": []
    },
    {
      "cell_type": "code",
      "source": [
        "%%capture\n",
        "!pip install pyyaml==5.4.1"
      ],
      "metadata": {
        "id": "Mpj9jqRGCGMA"
      },
      "execution_count": 74,
      "outputs": []
    },
    {
      "cell_type": "code",
      "execution_count": 75,
      "metadata": {
        "id": "NhskK3SnpCsZ"
      },
      "outputs": [],
      "source": [
        "#@title import package\n",
        "import os\n",
        "import math\n",
        "import time\n",
        "import random\n",
        "import json\n",
        "import yaml\n",
        "import numpy as np\n",
        "import cv2\n",
        "from google.colab.patches import cv2_imshow"
      ]
    },
    {
      "cell_type": "code",
      "source": [
        "cellColor = {\n",
        "\t0: [7, 193, 255], # y\n",
        "\t1: [243, 150, 33], # b\n",
        "\t2: [54, 67, 244] # r\n",
        "}"
      ],
      "metadata": {
        "id": "m3I_Fr0LHzWL"
      },
      "execution_count": 76,
      "outputs": []
    },
    {
      "cell_type": "code",
      "source": [
        "def computeEdge(map):\n",
        "  rect = [False, False, False, False]\n",
        "  for cell in map:\n",
        "    pos = [int(n) for n in cell.split(',')]\n",
        "    if pos[0] < rect[0] or rect[0] == False: rect[0] = pos[0]\n",
        "    if pos[0] > rect[2] or rect[2] == False: rect[2] = pos[0]\n",
        "    if pos[1] < rect[1] or rect[1] == False: rect[1] = pos[1]\n",
        "    if pos[1] > rect[3] or rect[3] == False: rect[3] = pos[1]\n",
        "  return(rect)\n",
        "def getRelativeNameDataPairsInRect(nameData, rect):\n",
        "  relativeNameDataPairs = []\n",
        "  for nameRange in nameData:\n",
        "    namePos = [int(n) for n in nameRange.split(',')]\n",
        "    # if not ((namePos[0] < rect[0] and namePos[2] < rect[0]) or (namePos[0] > rect[2] and namePos[2] > rect[2])) or ((namePos[1] < rect[1] and namePos[3] < rect[1]) or (namePos[1] > rect[3] and namePos[3] > rect[3])):\n",
        "    if not (namePos[0] >= rect[2] or namePos[2] <= rect[0] or namePos[1] >= rect[3] or namePos[3] <= rect[1]):\n",
        "      if namePos[0] < rect[0]: namePos[0] = rect[0]\n",
        "      if namePos[1] < rect[1]: namePos[1] = rect[1]\n",
        "      if namePos[2] > rect[2]: namePos[2] = rect[2]\n",
        "      if namePos[3] > rect[3]: namePos[3] = rect[3]\n",
        "      namePos[0] -= rect[0]\n",
        "      namePos[1] -= rect[1]\n",
        "      namePos[2] -= rect[0]\n",
        "      namePos[3] -= rect[1]\n",
        "      print(namePos, '<', nameRange)\n",
        "      relativeNameDataPairs.append([namePos, nameData[nameRange]])\n",
        "  return(relativeNameDataPairs)\n",
        "def generateId():\n",
        "  return(f'{time.time()}-{hex(random.randint(0, 16))}')\n",
        "def labelRectRot90(xc, yc, w, h, times):\n",
        "  return([\n",
        "\t\tlambda xc, yc, w, h, m: [xc, yc, w, h], \n",
        "\t\tlambda xc, yc, w, h, m: [yc, m-xc, h, w], \n",
        "\t\tlambda xc, yc, w, h, m: [m-xc, m-yc, w, h], \n",
        "\t\tlambda xc, yc, w, h, m: [m-yc, xc, h, w]\n",
        "\t][times%4](xc, yc, w, h, 1))"
      ],
      "metadata": {
        "id": "TA-_n-R2FrMH"
      },
      "execution_count": 84,
      "outputs": []
    },
    {
      "cell_type": "code",
      "source": [
        "datasetConfigs = []\n",
        "datasetDirs = [p for p in os.listdir(DATASETS_DIR_PATH) if p != 'tempJson']\n",
        "for datasetDirName in datasetDirs:\n",
        "  datasetDirPath = os.path.join(DATASETS_DIR_PATH, datasetDirName)\n",
        "  ymlPath = os.path.join(datasetDirPath, f'{datasetDirName}.yml')\n",
        "  print(ymlPath)\n",
        "  if not os.path.isfile(ymlPath):\n",
        "    raise ValueError(f'dataset config \"{ymlPath}\" not found! (Please confirm whether the config file is under the \"dataset/{datasetDirName}\" folder.)')\n",
        "    continue\n",
        "  yamlContent = ''\n",
        "  with open(ymlPath, 'r', encoding='utf-8') as f:\n",
        "    yamlContent = yaml.load(f, Loader=yaml.Loader)\n",
        "  datasetConfigs.append(yamlContent)\n",
        "\n",
        "tempJsonPath = os.path.join(DATASETS_DIR_PATH, 'tempJson')\n",
        "if not os.path.isdir(tempJsonPath):\n",
        "  raise ValueError('Directory \"tempJson\" not found! (Please confirm whether the \"tempJson\" folder is under the \"dataset\" folder.)')\n",
        "  exit()\n",
        "gameMapFiles = [p for p in os.listdir(tempJsonPath) if p.endswith('.json')]\n",
        "\n",
        "for gameMapPath in gameMapFiles:\n",
        "  gameMapPath = os.path.join(tempJsonPath, gameMapPath)\n",
        "  gameMapFile = open(gameMapPath, 'r', encoding='utf-8')\n",
        "  gameMapContent = gameMapFile.read()\n",
        "  gameMapFile.close()\n",
        "  gameMapContent = json.loads(gameMapContent)\n",
        "  edge = computeEdge(gameMapContent['map'])\n",
        "  wholeImage = np.zeros([edge[3]-edge[1]+1, edge[2]-edge[0]+1, 3], dtype=np.int64)\n",
        "  for cell in gameMapContent['map']:\n",
        "    pos = [int(n) for n in cell.split(',')]\n",
        "    pos[0] -= edge[0]\n",
        "    pos[1] -= edge[1]\n",
        "    wholeImage[pos[1], pos[0]] = np.array(cellColor[gameMapContent['map'][cell]])\n",
        "  # cv2_imshow(wholeImage)\n",
        "  for config in datasetConfigs:\n",
        "    trainPath = os.path.join(DATASETS_DIR_PATH, config['train'])\n",
        "    validPath = os.path.join(DATASETS_DIR_PATH, config['val'])\n",
        "    config['names'] = list(config['names'].values())\n",
        "    sliceWidth = config.get('sliceWidth', 128)\n",
        "    for r in range(math.ceil(wholeImage.shape[0]/sliceWidth)):\n",
        "      for c in range(math.ceil(wholeImage.shape[1]/sliceWidth)):\n",
        "        sliceId = generateId()\n",
        "        sliceRect = [c*sliceWidth, r*sliceWidth, (c+1)*sliceWidth, (r+1)*sliceWidth]\n",
        "\n",
        "        relativeNameDataPairs = getRelativeNameDataPairsInRect(gameMapContent['nameData'], sliceRect)\n",
        "        labelContentRows = []\n",
        "        for nameDataPair in relativeNameDataPairs:\n",
        "          if nameDataPair[1] in config['names']:\n",
        "            row = [\n",
        "              config['names'].index(nameDataPair[1]), \n",
        "              ((nameDataPair[0][0]+nameDataPair[0][2])/2)/sliceWidth, \n",
        "              ((nameDataPair[0][1]+nameDataPair[0][3])/2)/sliceWidth, \n",
        "              (nameDataPair[0][2] - nameDataPair[0][0])/sliceWidth, \n",
        "              (nameDataPair[0][3] - nameDataPair[0][1])/sliceWidth\n",
        "            ]\n",
        "            # print(((nameDataPair[0][0]+nameDataPair[0][2])/2), ((nameDataPair[0][1]+nameDataPair[0][3])/2), (nameDataPair[0][2] - nameDataPair[0][0]), (nameDataPair[0][3] - nameDataPair[0][1]), sliceWidth)\n",
        "            labelContentRows.append(row)\n",
        "        labelContent = '\\n'.join([' '.join([str(n) for n in row]) for row in labelContentRows])\n",
        "        if labelContent == '':\n",
        "          continue\n",
        "        \n",
        "        imagePart = wholeImage[sliceRect[1]:sliceRect[3], sliceRect[0]:sliceRect[2]]\n",
        "        slicedImage = np.zeros([sliceWidth, sliceWidth, 3], dtype=np.int64)\n",
        "        slicedImage[:imagePart.shape[0], :imagePart.shape[1], :] = imagePart\n",
        "        # cv2_imshow(slicedImage)  \n",
        "        \n",
        "        cv2.imwrite(os.path.join(validPath, f'{sliceId}.jpg'), slicedImage)\n",
        "        with open(os.path.join(os.path.abspath(os.path.join(validPath, os.pardir)), 'labels', f'{sliceId}.txt'), 'w+', encoding='utf-8') as labelFile:\n",
        "          labelFile.write(labelContent)\n",
        "\n",
        "        for n in range(4):\n",
        "          trainImage = np.rot90(slicedImage, k=n, axes=(0, 1))\n",
        "          labelContent = '\\n'.join([' '.join([str(n) for n in [i, *labelRectRot90(xc, yc, w, h, n)]]) for [i, xc, yc, w, h] in labelContentRows])\n",
        "          cv2.imwrite(os.path.join(trainPath, f'{sliceId}.jpg'), trainImage)\n",
        "          with open(os.path.join(os.path.abspath(os.path.join(trainPath, os.pardir)), 'labels', f'{sliceId}.txt'), 'w+', encoding='utf-8') as labelFile:\n",
        "            labelFile.write(labelContent)"
      ],
      "metadata": {
        "id": "Yp3pg-Rtp0mn"
      },
      "execution_count": null,
      "outputs": []
    }
  ]
}